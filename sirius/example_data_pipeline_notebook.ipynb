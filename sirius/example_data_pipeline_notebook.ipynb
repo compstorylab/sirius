{
 "cells": [
  {
   "cell_type": "markdown",
   "metadata": {},
   "source": [
    "# Running Sirius In-Notebook"
   ]
  },
  {
   "cell_type": "markdown",
   "metadata": {},
   "source": [
    "Note that this is not the preferred method of data interaction at scale, but does allow for easy access to individual pairwise charts, as well as a Plotly version of the network graph. Researchers are advised to follow the command-line data processing pipeline, and to run the Sirius application in-browser to interact with feature networks and plots."
   ]
  },
  {
   "cell_type": "markdown",
   "metadata": {},
   "source": [
    "## Import modules and libraries"
   ]
  },
  {
   "cell_type": "code",
   "execution_count": 0,
   "metadata": {},
   "outputs": [],
   "source": [
    "from pathlib import Path\n",
    "\n",
    "import pandas as pd\n",
    "from random import randint\n",
    "import matplotlib.pyplot as plt\n",
    "import seaborn as sns\n",
    "sns.set_style(\"whitegrid\")\n",
    "import networkx as nx\n",
    "\n",
    "import setup\n",
    "from data_processing import classify_features, load_data\n",
    "from mutual_info import calc_mi\n",
    "from network import output_graph_json, output_pairs_json, threshold_using_backbone_method\n",
    "from visualization import draw_graph, viz, show_edge_thinning"
   ]
  },
  {
   "cell_type": "markdown",
   "metadata": {},
   "source": [
    "## Select our target directory and set our parameters:\n",
    "Optional: You can set up parameters from an outside file using `args = setup.arg_setup()`"
   ]
  },
  {
   "cell_type": "code",
   "execution_count": 0,
   "metadata": {
    "scrolled": true
   },
   "outputs": [],
   "source": [
    "target_dir = 'example_icu' #'example_housing' #'example_groceries' #'example_icu' #'example_data'\n",
    "args = {'charter': 'Plotly',\n",
    "        'input_file': f'../{target_dir}/data.csv',\n",
    "        'output_dir': f'../{target_dir}/output',\n",
    "        'sample_n': 100, #None, #100 (recommended for testing example_icu or other large data sets)\n",
    "        'output_json': True,\n",
    "        'output_charts': False,\n",
    "        'feature_of_interest': 'diabetes_mellitus' #'Neighborhood' #'whole_milk' #'diabetes_mellitus' #'Continuous_Trinary_Normal'\n",
    "       }"
   ]
  },
  {
   "cell_type": "markdown",
   "metadata": {},
   "source": [
    "## Load data"
   ]
  },
  {
   "cell_type": "code",
   "execution_count": 0,
   "metadata": {
    "scrolled": true
   },
   "outputs": [],
   "source": [
    "df = load_data(Path(args['input_file']), sample_n=args['sample_n'])"
   ]
  },
  {
   "cell_type": "code",
   "execution_count": 0,
   "metadata": {
    "scrolled": true
   },
   "outputs": [],
   "source": [
    "print(f'There are {df.shape[0]} records and {df.shape[1]} features in {args[\"input_file\"]}')"
   ]
  },
  {
   "cell_type": "markdown",
   "metadata": {},
   "source": [
    "## Classify features as discrete or continuous"
   ]
  },
  {
   "cell_type": "code",
   "execution_count": 0,
   "metadata": {
    "scrolled": true
   },
   "outputs": [],
   "source": [
    "feature_info = classify_features(df)"
   ]
  },
  {
   "cell_type": "markdown",
   "metadata": {},
   "source": [
    "## Calculate mutual information for each pair of features"
   ]
  },
  {
   "cell_type": "code",
   "execution_count": 0,
   "metadata": {},
   "outputs": [],
   "source": [
    "edges = calc_mi(df, feature_info, debug=True).sort_values(by='v', ascending=False).reset_index(drop=True)"
   ]
  },
  {
   "cell_type": "markdown",
   "metadata": {},
   "source": [
    "## Dynamically threshold (sparsify) the mutual information graph (matrix) using a backbone method"
   ]
  },
  {
   "cell_type": "code",
   "execution_count": 0,
   "metadata": {
    "scrolled": false
   },
   "outputs": [],
   "source": [
    "thresheld = threshold_using_backbone_method(edges, debug=True)"
   ]
  },
  {
   "cell_type": "markdown",
   "metadata": {},
   "source": [
    "## View a chart and mutual information score for a selected pair of variables\n",
    "Options for `charter` include `'Plotly'` or `'Seaborn'`"
   ]
  },
  {
   "cell_type": "code",
   "execution_count": 0,
   "metadata": {},
   "outputs": [],
   "source": [
    "def makeviz(x,y):\n",
    "    viz(x, y, df, feature_info, charter=args['charter'],display=True, resolution=100)\n",
    "    print(f'Mutual information for {x} and {y}: {calc_mi(df.filter([x,y]), feature_info)[\"v\"][0]}')"
   ]
  },
  {
   "cell_type": "markdown",
   "metadata": {},
   "source": [
    "## Choose two variables to explore\n",
    "### For example, we could choose two features which have a high mutual information score, chosen from our sparsified matrix:"
   ]
  },
  {
   "cell_type": "code",
   "execution_count": 0,
   "metadata": {},
   "outputs": [],
   "source": [
    "choose_from_top_5 = randint(0,thresheld.shape[0])\n",
    "selected1 = thresheld['x'].iloc[choose_from_top_5]\n",
    "selected2 = thresheld['y'].iloc[choose_from_top_5]\n",
    "print(f'Selected features {selected1} and {selected2}')"
   ]
  },
  {
   "cell_type": "code",
   "execution_count": 0,
   "metadata": {},
   "outputs": [],
   "source": [
    "makeviz(selected1,selected2)"
   ]
  },
  {
   "cell_type": "markdown",
   "metadata": {},
   "source": [
    "### (or we could choose two features at random from all possible combinations):\n",
    "This would print a visualization comparing these two random features,\n",
    "which may be uninformative due to low mutual information:\n",
    "\n",
    "\n",
    "`\n",
    "random1 = edges['x'][randint(0,edges.shape[0])]\n",
    "random2 = edges['x'][randint(0,edges.shape[0])]\n",
    "print(f'Selected features {random1} and {random2}')\n",
    "makeviz(random1,random2)\n",
    "`"
   ]
  },
  {
   "cell_type": "markdown",
   "metadata": {},
   "source": [
    "## Visualize the filtered feature graph"
   ]
  },
  {
   "cell_type": "code",
   "execution_count": 0,
   "metadata": {
    "scrolled": false
   },
   "outputs": [],
   "source": [
    "draw_graph(thresheld, f'Filtered Feature Graph: Reduced to {thresheld.shape[0]} Connections', display=True)"
   ]
  }
 ],
 "metadata": {
  "kernelspec": {
   "display_name": "Python 3",
   "language": "python",
   "name": "python3"
  },
  "language_info": {
   "codemirror_mode": {
    "name": "ipython",
    "version": 3
   },
   "file_extension": ".py",
   "mimetype": "text/x-python",
   "name": "python",
   "nbconvert_exporter": "python",
   "pygments_lexer": "ipython3",
   "version": "3.8.3"
  }
 },
 "nbformat": 4,
 "nbformat_minor": 4
}