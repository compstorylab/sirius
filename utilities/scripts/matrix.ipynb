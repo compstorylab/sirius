{
 "cells": [
  {
   "cell_type": "markdown",
   "metadata": {
    "toc": true
   },
   "source": [
    "<h1>Table of Contents<span class=\"tocSkip\"></span></h1>\n",
    "<div class=\"toc\"><ul class=\"toc-item\"><li><span><a href=\"#Setup\" data-toc-modified-id=\"Setup-1\"><span class=\"toc-item-num\">1&nbsp;&nbsp;</span>Setup</a></span><ul class=\"toc-item\"><li><span><a href=\"#Import-libraries\" data-toc-modified-id=\"Import-libraries-1.1\"><span class=\"toc-item-num\">1.1&nbsp;&nbsp;</span>Import libraries</a></span><ul class=\"toc-item\"><li><span><a href=\"#Data-processing\" data-toc-modified-id=\"Data-processing-1.1.1\"><span class=\"toc-item-num\">1.1.1&nbsp;&nbsp;</span>Data processing</a></span></li><li><span><a href=\"#Visualization\" data-toc-modified-id=\"Visualization-1.1.2\"><span class=\"toc-item-num\">1.1.2&nbsp;&nbsp;</span>Visualization</a></span></li></ul></li><li><span><a href=\"#Parameter-settings\" data-toc-modified-id=\"Parameter-settings-1.2\"><span class=\"toc-item-num\">1.2&nbsp;&nbsp;</span>Parameter settings</a></span></li><li><span><a href=\"#Import-Data\" data-toc-modified-id=\"Import-Data-1.3\"><span class=\"toc-item-num\">1.3&nbsp;&nbsp;</span>Import Data</a></span></li></ul></li><li><span><a href=\"#Helper-functions\" data-toc-modified-id=\"Helper-functions-2\"><span class=\"toc-item-num\">2&nbsp;&nbsp;</span>Helper functions</a></span><ul class=\"toc-item\"><li><span><a href=\"#Identify-feature-type\" data-toc-modified-id=\"Identify-feature-type-2.1\"><span class=\"toc-item-num\">2.1&nbsp;&nbsp;</span>Identify feature type</a></span></li><li><span><a href=\"#Data-structures\" data-toc-modified-id=\"Data-structures-2.2\"><span class=\"toc-item-num\">2.2&nbsp;&nbsp;</span>Data structures</a></span></li></ul></li><li><span><a href=\"#Main-Functions\" data-toc-modified-id=\"Main-Functions-3\"><span class=\"toc-item-num\">3&nbsp;&nbsp;</span>Main Functions</a></span><ul class=\"toc-item\"><li><span><a href=\"#Visualization\" data-toc-modified-id=\"Visualization-3.1\"><span class=\"toc-item-num\">3.1&nbsp;&nbsp;</span>Visualization</a></span><ul class=\"toc-item\"><li><span><a href=\"#Discrete-Discrete-Confusion-Matrices\" data-toc-modified-id=\"Discrete-Discrete-Confusion-Matrices-3.1.1\"><span class=\"toc-item-num\">3.1.1&nbsp;&nbsp;</span>Discrete-Discrete Confusion Matrices</a></span></li><li><span><a href=\"#Discrete-Continuous-Violin-Plots\" data-toc-modified-id=\"Discrete-Continuous-Violin-Plots-3.1.2\"><span class=\"toc-item-num\">3.1.2&nbsp;&nbsp;</span>Discrete-Continuous Violin Plots</a></span></li><li><span><a href=\"#Continuous-Continuous-KDE-Plots\" data-toc-modified-id=\"Continuous-Continuous-KDE-Plots-3.1.3\"><span class=\"toc-item-num\">3.1.3&nbsp;&nbsp;</span>Continuous-Continuous KDE Plots</a></span></li><li><span><a href=\"#Matrix-Heatmap\" data-toc-modified-id=\"Matrix-Heatmap-3.1.4\"><span class=\"toc-item-num\">3.1.4&nbsp;&nbsp;</span>Matrix Heatmap</a></span></li><li><span><a href=\"#Visualization-Function-Router\" data-toc-modified-id=\"Visualization-Function-Router-3.1.5\"><span class=\"toc-item-num\">3.1.5&nbsp;&nbsp;</span>Visualization Function Router</a></span></li></ul></li><li><span><a href=\"#Mutual-Information\" data-toc-modified-id=\"Mutual-Information-3.2\"><span class=\"toc-item-num\">3.2&nbsp;&nbsp;</span>Mutual Information</a></span><ul class=\"toc-item\"><li><span><a href=\"#Discrete-Discrete\" data-toc-modified-id=\"Discrete-Discrete-3.2.1\"><span class=\"toc-item-num\">3.2.1&nbsp;&nbsp;</span>Discrete-Discrete</a></span></li><li><span><a href=\"#Discrete-Continuous\" data-toc-modified-id=\"Discrete-Continuous-3.2.2\"><span class=\"toc-item-num\">3.2.2&nbsp;&nbsp;</span>Discrete-Continuous</a></span></li><li><span><a href=\"#Continuous-Continuous\" data-toc-modified-id=\"Continuous-Continuous-3.2.3\"><span class=\"toc-item-num\">3.2.3&nbsp;&nbsp;</span>Continuous-Continuous</a></span><ul class=\"toc-item\"><li><span><a href=\"#Comparison:-Correlation\" data-toc-modified-id=\"Comparison:-Correlation-3.2.3.1\"><span class=\"toc-item-num\">3.2.3.1&nbsp;&nbsp;</span>Comparison: Correlation</a></span></li></ul></li></ul></li><li><span><a href=\"#Matrix-Functions\" data-toc-modified-id=\"Matrix-Functions-3.3\"><span class=\"toc-item-num\">3.3&nbsp;&nbsp;</span>Matrix Functions</a></span></li><li><span><a href=\"#Data-Processing\" data-toc-modified-id=\"Data-Processing-3.4\"><span class=\"toc-item-num\">3.4&nbsp;&nbsp;</span>Data Processing</a></span></li></ul></li><li><span><a href=\"#Calculation\" data-toc-modified-id=\"Calculation-4\"><span class=\"toc-item-num\">4&nbsp;&nbsp;</span>Calculation</a></span></li><li><span><a href=\"#Network-Graphing\" data-toc-modified-id=\"Network-Graphing-5\"><span class=\"toc-item-num\">5&nbsp;&nbsp;</span>Network Graphing</a></span><ul class=\"toc-item\"><li><span><a href=\"#Thresholding\" data-toc-modified-id=\"Thresholding-5.1\"><span class=\"toc-item-num\">5.1&nbsp;&nbsp;</span>Thresholding</a></span></li><li><span><a href=\"#Node-and-Edge-Lists\" data-toc-modified-id=\"Node-and-Edge-Lists-5.2\"><span class=\"toc-item-num\">5.2&nbsp;&nbsp;</span>Node and Edge Lists</a></span></li><li><span><a href=\"#Positioning\" data-toc-modified-id=\"Positioning-5.3\"><span class=\"toc-item-num\">5.3&nbsp;&nbsp;</span>Positioning</a></span></li><li><span><a href=\"#Draw-Graph\" data-toc-modified-id=\"Draw-Graph-5.4\"><span class=\"toc-item-num\">5.4&nbsp;&nbsp;</span>Draw Graph</a></span></li></ul></li></ul></div>"
   ]
  },
  {
   "cell_type": "markdown",
   "metadata": {},
   "source": [
    "# Setup\n",
    "## Import libraries\n",
    "### Data processing"
   ]
  },
  {
   "cell_type": "code",
   "execution_count": 1,
   "metadata": {},
   "outputs": [],
   "source": [
    "from datetime import datetime\n",
    "import pandas as pd\n",
    "import numpy as np\n",
    "import math\n",
    "import random\n",
    "from sklearn.feature_selection import f_regression, mutual_info_regression\n",
    "from sklearn.metrics import normalized_mutual_info_score\n",
    "from scipy.stats import multivariate_normal, pearsonr\n",
    "import scipy.integrate as integrate\n",
    "from sklearn.neighbors import KernelDensity\n",
    "from pathlib import Path\n",
    "import networkx as nx\n",
    "import json"
   ]
  },
  {
   "cell_type": "markdown",
   "metadata": {},
   "source": [
    "### Visualization"
   ]
  },
  {
   "cell_type": "code",
   "execution_count": 2,
   "metadata": {},
   "outputs": [],
   "source": [
    "import matplotlib.pyplot as plt\n",
    "\n",
    "#Seaborn\n",
    "import seaborn as sns\n",
    "sns.set_style(\"whitegrid\")\n",
    "\n",
    "#Plotly\n",
    "import plotly\n",
    "import plotly.tools as tls\n",
    "import plotly.graph_objs as go\n",
    "import plotly.express as px\n",
    "import plotly.figure_factory as ff\n",
    "from plotly.colors import n_colors\n",
    "\n",
    "# If you're using this code locally:\n",
    "from plotly.offline import download_plotlyjs, plot, iplot #, init_notebook_mode\n",
    "\n",
    "# If you're copying this into a jupyter notebook, add:\n",
    "# init_notebook_mode(connected=True)"
   ]
  },
  {
   "cell_type": "markdown",
   "metadata": {},
   "source": [
    "## Parameter settings"
   ]
  },
  {
   "cell_type": "code",
   "execution_count": 3,
   "metadata": {},
   "outputs": [],
   "source": [
    "chart = False # boolean for whether to display images while running computation\n",
    "debug = True # boolean for whether to print updates to the console while running\n",
    "output = True # boolean for whether to output json and pngs to files\n",
    "charter = 'Plotly' # also accepts 'Seaborn'\n",
    "#charter = 'Seaborn'\n",
    "resolution = 150 # int for resolution of output plots\n",
    "discrete_threshold = 5 # number of responses below which numeric responses are considered discrete\n",
    "compare_all = True # boolean; if comparing two lists of the same length, fill in list1 and list2 accordingly\n",
    "#list1, list2 = [],[]\n",
    "sample_n = None # Work with all data (None), or just a sample?\n",
    "cd = 'example_data/'"
   ]
  },
  {
   "cell_type": "code",
   "execution_count": 4,
   "metadata": {},
   "outputs": [],
   "source": [
    "if output:\n",
    "    Path(cd+'output/').mkdir(parents=True, exist_ok=True)\n",
    "    Path(cd+'output/charts').mkdir(parents=True, exist_ok=True)\n",
    "    Path(cd+'output/json').mkdir(parents=True, exist_ok=True)"
   ]
  },
  {
   "cell_type": "markdown",
   "metadata": {},
   "source": [
    "## Import Data"
   ]
  },
  {
   "cell_type": "code",
   "execution_count": 5,
   "metadata": {},
   "outputs": [
    {
     "name": "stdout",
     "output_type": "stream",
     "text": [
      "Loaded data from example_data/ with 2400 observations and 34 features\n"
     ]
    }
   ],
   "source": [
    "if sample_n: df = pd.read_csv(cd+'data.csv').sample(sample_n)\n",
    "else: df = pd.read_csv(cd+'data.csv')\n",
    "ignore = []\n",
    "for i in list(df.columns):\n",
    "    try: np.ma.fix_invalid(df[i])\n",
    "    except: pass\n",
    "    if ('_id' in i):\n",
    "        ignore.append(i)\n",
    "df = df.drop(columns=ignore)\n",
    "df = df.replace(np.nan, None)\n",
    "df = df.replace('nan', None)\n",
    "df.columns = [c.replace(' ','_') for c in list(df.columns)]\n",
    "if debug: print(f'Loaded data from {cd} with {df.shape[0]} observations and {df.shape[1]} features')"
   ]
  },
  {
   "cell_type": "markdown",
   "metadata": {},
   "source": [
    "# Helper functions\n",
    "## Identify feature type"
   ]
  },
  {
   "cell_type": "code",
   "execution_count": 6,
   "metadata": {},
   "outputs": [],
   "source": [
    "# Get a list of all response types\n",
    "response_list = pd.DataFrame(columns=['responses','types'], index=list(df.columns))\n",
    "response_list['responses']=[list(df[col].value_counts().index) for col in df.columns]\n",
    "\n",
    "# Delete columns from the dataframe that only have one response\n",
    "response_list['only_one_r'] = [(len(r)<2) for r in response_list['responses']]\n",
    "only_one_r = list(response_list[response_list['only_one_r']==True].index)\n",
    "df = df.drop(columns=only_one_r)\n",
    "response_list = response_list.drop(index=only_one_r)"
   ]
  },
  {
   "cell_type": "code",
   "execution_count": 7,
   "metadata": {},
   "outputs": [],
   "source": [
    "def get_types(U):\n",
    "  types = {'floats':0,'strings':0,'nulls': 0}\n",
    "  for i in response_list['responses'][U]:\n",
    "    try:\n",
    "      val = float(i)\n",
    "      if math.isnan(val)==False:\n",
    "        #print(\"Value\",i,\" is a float\")\n",
    "        types['floats']+=1\n",
    "      else:\n",
    "        #print(\"Value\",i,\" is null\")\n",
    "        types['nulls']+=1\n",
    "    except ValueError:\n",
    "      try:\n",
    "        val = str(i)\n",
    "        #print(\"Value\",i,\"is a string\")\n",
    "        types['strings']+=1\n",
    "      except:\n",
    "        print('Error: Unexpected value',i,'for feature',U)\n",
    "  if ((types['floats']>0) & (types['strings']>0)):\n",
    "    print('Column',U,'contains floats AND strings')\n",
    "  return types"
   ]
  },
  {
   "cell_type": "code",
   "execution_count": 8,
   "metadata": {},
   "outputs": [
    {
     "name": "stdout",
     "output_type": "stream",
     "text": [
      "Counted 21 discrete features and 13 features\n"
     ]
    }
   ],
   "source": [
    "response_list['types']=[get_types(col) for col in df.columns]\n",
    "response_list['string']=[t['strings']>0 for t in response_list['types']]\n",
    "response_list['float']=[t['floats']>0 for t in response_list['types']]\n",
    "\n",
    "# Classify features as discrete (fewer than {discrete_threshold} responses, or contains strings) or continuous (more than 15)\n",
    "response_list['class']=['d' if ((len(r) < discrete_threshold) or (t['strings']>0)) else 'c' for r,t in zip(response_list['responses'],response_list['types'])]\n",
    "\n",
    "# Store these groups in a list\n",
    "discrete = list(response_list[response_list['class']=='d'].index)\n",
    "continuous = list(response_list[response_list['class']=='c'].index)\n",
    "\n",
    "if debug: print(f'Counted {len(discrete)} discrete features and {len(continuous)} features')"
   ]
  },
  {
   "cell_type": "code",
   "execution_count": 9,
   "metadata": {},
   "outputs": [],
   "source": [
    "# Format the data as a string or a float\n",
    "for i in list(response_list.index):\n",
    "    V = []\n",
    "    if (response_list['string'][i]==True) or (response_list['class'][i]=='d'):\n",
    "        V=[str(v) for v in df[i]]\n",
    "        df[i]=V\n",
    "    elif response_list['float'][i]==True:\n",
    "        V = df[i]\n",
    "        V=[float(v) for v in df[i]]\n",
    "        df[i]=V\n",
    "    else: print('Error formatting column ',i)"
   ]
  },
  {
   "cell_type": "markdown",
   "metadata": {},
   "source": [
    "## Data structures"
   ]
  },
  {
   "cell_type": "code",
   "execution_count": 10,
   "metadata": {},
   "outputs": [],
   "source": [
    "def sparsify(series):\n",
    "  ''' For discrete values: takes a column name and returns a sparse matrix (0 or 1) with a column for each unique response '''\n",
    "  m=pd.DataFrame(columns=list(series.unique()))\n",
    "  for i in list(series.unique()):\n",
    "    m[i]=[int(x==i) for x in series]\n",
    "  return m\n",
    "\n",
    "def compute_bandwidth(X):\n",
    "  ''' Takes a column name and computes suggested gaussian bandwidth with the formula: 1.06*var(n^-0.2) '''\n",
    "  var = np.var(df[X])\n",
    "  n = len(df[X].notnull())\n",
    "  b = 1.06*var*(n**(-0.2))\n",
    "  return b"
   ]
  },
  {
   "cell_type": "markdown",
   "metadata": {},
   "source": [
    "# Main Functions\n",
    "## Visualization\n",
    "### Discrete-Discrete Confusion Matrices"
   ]
  },
  {
   "cell_type": "code",
   "execution_count": 11,
   "metadata": {},
   "outputs": [],
   "source": [
    "def DD_viz(df):\n",
    "    \n",
    "  ''' Takes a filtered dataframe of two discrete feature columns and generates a heatmap '''\n",
    "\n",
    "  U=list(df.columns)[0]\n",
    "  V=list(df.columns)[1]\n",
    "\n",
    "  i_range = list(df[U].unique())\n",
    "  j_range = list(df[V].unique())\n",
    "  s = pd.DataFrame(columns=i_range,index=j_range)\n",
    "  for i in i_range:\n",
    "    for j in j_range:\n",
    "      s[i][j]=df[(df[U]==i) & (df[V]==j)].filter([U,V],axis=1).shape[0]\n",
    "      mutual_support=s.sum().sum()\n",
    "  s = s.astype(int)\n",
    "\n",
    "  if charter=='Plotly':\n",
    "    fig = ff.create_annotated_heatmap(\n",
    "        s.values,\n",
    "        x=[str(i) for i in i_range],\n",
    "        y=[str(j) for j in j_range],\n",
    "        colorscale = 'Blues'\n",
    "    )\n",
    "    fig.update_layout(\n",
    "        xaxis_title = U.replace('_',' ').title(),\n",
    "        yaxis_title = V.replace('_',' ').title(),\n",
    "        plot_bgcolor=\"rgba(0, 0, 0, 0)\", \n",
    "        paper_bgcolor=\"rgba(0, 0, 0, 0)\",\n",
    "    )\n",
    "    if chart: fig.show()\n",
    "        \n",
    "    if output:\n",
    "        fig.update_xaxes(tickcolor='white',tickfont=dict(color='white'))\n",
    "        fig.update_yaxes(tickcolor='white',tickfont=dict(color='white'))\n",
    "        fig.update_layout(font=dict(color=\"white\"))\n",
    "        with open(str(cd+'output/charts/'+U+'_'+V+'.json'), 'w') as outfile:\n",
    "            json.dump(fig.to_json(), outfile)\n",
    "        fig.write_image(str(cd+'output/charts/'+U+'_'+V+'.png'), scale=resolution//72)\n",
    "        \n",
    "  else:\n",
    "    plt.clf()\n",
    "    plt.figure(dpi=resolution)\n",
    "    sns.heatmap(s, annot=True, cmap=\"Blues\", cbar=False, linewidths=1)\n",
    "    plt.xlabel(U.replace('_',' ').title())\n",
    "    plt.ylabel(V.replace('_',' ').title()) \n",
    "    if output: plt.savefig(str(cd+'output/charts/'+U+'_'+V+'.png'), dpi=resolution)\n",
    "    if chart: plt.show()\n",
    "\n",
    "  plt.close('all')\n",
    "  return "
   ]
  },
  {
   "cell_type": "code",
   "execution_count": 12,
   "metadata": {
    "scrolled": false
   },
   "outputs": [
    {
     "name": "stdout",
     "output_type": "stream",
     "text": [
      "Created an example discrete-discrete plot, generated using Plotly\n"
     ]
    }
   ],
   "source": [
    "if debug:\n",
    "    try:\n",
    "        DD_viz(df.filter(random.sample(discrete,2)).dropna(how='any'))\n",
    "        print(f'Created an example discrete-discrete plot, generated using {charter}')\n",
    "    except: pass"
   ]
  },
  {
   "cell_type": "markdown",
   "metadata": {},
   "source": [
    "### Discrete-Continuous Violin Plots"
   ]
  },
  {
   "cell_type": "code",
   "execution_count": 13,
   "metadata": {},
   "outputs": [],
   "source": [
    "def DC_viz(df):\n",
    "\n",
    "  ''' Takes a subset dataframe of one continuous and one discrete feature and generates a Violin Plot '''\n",
    "\n",
    "  U=list(df.columns)[0]\n",
    "  V=list(df.columns)[1]\n",
    "  \n",
    "  if (U in continuous):\n",
    "    D = V\n",
    "    C = U\n",
    "  else:\n",
    "    D = U\n",
    "    C = V\n",
    "    \n",
    "  if charter=='Plotly':\n",
    "    fig = go.Figure()\n",
    "    for i in list(df[D].unique()):\n",
    "        series = df[df[D]==i][C]\n",
    "        fig.add_trace(go.Violin(x=series, name=str(i)))\n",
    "\n",
    "    fig.update_traces(orientation='h', side='positive', width=3, points=False)\n",
    "    fig.update_layout(xaxis_showgrid=False, xaxis_zeroline=False,\n",
    "        xaxis_title = U.replace('_',' ').title(),\n",
    "        yaxis_title = V.replace('_',' ').title(),\n",
    "        plot_bgcolor=\"rgba(0, 0, 0, 0)\", \n",
    "        paper_bgcolor=\"rgba(0, 0, 0, 0)\",\n",
    "        showlegend=False\n",
    "    )\n",
    "    if chart: fig.show()\n",
    "        \n",
    "    if output:\n",
    "        fig.update_xaxes(tickcolor='white',tickfont=dict(color='white'))\n",
    "        fig.update_yaxes(tickcolor='white',tickfont=dict(color='white'))\n",
    "        fig.update_layout(font=dict(color=\"white\"))\n",
    "        with open(str(cd+'output/charts/'+U+'_'+V+'.json'), 'w') as outfile:\n",
    "            json.dump(fig.to_json(), outfile)\n",
    "        fig.write_image(str(cd+'output/charts/'+U+'_'+V+'.png'), scale=resolution//72)\n",
    "    \n",
    "  else:\n",
    "      sns.violinplot(df[D], df[C])\n",
    "      if (len(df[D]) < 500): sns.swarmplot(x=df[D], y=df[C], edgecolor=\"white\", linewidth=1) # Only show a swarm plot if there are fewer than 500 data points\n",
    "      plt.xlabel(D.replace('_',' ').title())\n",
    "      plt.ylabel(C.replace('_',' ').title())\n",
    "    \n",
    "      if output: plt.savefig(str(cd+'output/charts/'+U+'_'+V+'.png'), dpi=resolution)\n",
    "        \n",
    "      if chart: plt.show()\n",
    "        \n",
    "  plt.close('all')\n",
    "\n",
    "  return"
   ]
  },
  {
   "cell_type": "code",
   "execution_count": 14,
   "metadata": {},
   "outputs": [
    {
     "name": "stdout",
     "output_type": "stream",
     "text": [
      "Created an example discrete-continuous plot, generated using Plotly\n"
     ]
    }
   ],
   "source": [
    "if debug:\n",
    "    try:\n",
    "        DC_viz(df.filter([random.choice(discrete),random.choice(continuous)]).dropna(how='any'))\n",
    "        print(f'Created an example discrete-continuous plot, generated using {charter}')\n",
    "    except:\n",
    "        pass"
   ]
  },
  {
   "cell_type": "markdown",
   "metadata": {},
   "source": [
    "### Continuous-Continuous KDE Plots"
   ]
  },
  {
   "cell_type": "code",
   "execution_count": 16,
   "metadata": {},
   "outputs": [],
   "source": [
    "def CC_viz(df):\n",
    "\n",
    "  ''' Takes two continuous feature names and generates a 2D Kernel Density Plot '''\n",
    "\n",
    "  U=list(df.columns)[0]\n",
    "  V=list(df.columns)[1]\n",
    "\n",
    "  if charter=='Plotly':\n",
    "        \n",
    "    fig = ff.create_2d_density(df[U], df[V], colorscale = px.colors.sequential.Blues_r , hist_color=(135/255, 206/255, 250/255), title='')\n",
    "    fig.update_layout(xaxis_showgrid=False, xaxis_zeroline=False,\n",
    "        xaxis_title = U.replace('_',' ').title(),\n",
    "        yaxis_title = V.replace('_',' ').title(),\n",
    "        plot_bgcolor=\"rgba(0, 0, 0, 0)\", \n",
    "        paper_bgcolor=\"rgba(0, 0, 0, 0)\",\n",
    "        showlegend=False\n",
    "    )\n",
    "    if chart: fig.show()\n",
    "        \n",
    "    if output:\n",
    "        fig.update_xaxes(tickcolor='white',tickfont=dict(color='white'))\n",
    "        fig.update_yaxes(tickcolor='white',tickfont=dict(color='white'))\n",
    "        fig.update_layout(font=dict(color=\"white\"))\n",
    "        with open(str(cd+'output/charts/'+U+'_'+V+'.json'), 'w') as outfile:\n",
    "            json.dump(fig.to_json(), outfile)\n",
    "        fig.write_image(str(cd+'output/charts/'+U+'_'+V+'.png'), scale=resolution//72)\n",
    "\n",
    "  else:\n",
    "    sns.kdeplot(df[U], df[V], color='blue',shade=True, alpha=0.3, shade_lowest=False)\n",
    "    if (len(df[U]) < 500): sns.scatterplot(x=df[U], y=df[V], color='blue', alpha=0.5, linewidth=0) # Only show a scatter plot if there are fewer than 500 data points\n",
    "    plt.xlabel(U.replace('_',' ').title())\n",
    "    plt.ylabel(V.replace('_',' ').title())\n",
    "    if output:\n",
    "      plt.savefig(str(cd+'output/charts/'+U+'_'+V+'.png'), dpi=resolution)\n",
    "    if chart: plt.show()\n",
    "\n",
    "  plt.close('all')\n",
    "\n",
    "  return"
   ]
  },
  {
   "cell_type": "code",
   "execution_count": 17,
   "metadata": {},
   "outputs": [
    {
     "name": "stdout",
     "output_type": "stream",
     "text": [
      "Created an example continuous-continuous plot, generated using Plotly\n"
     ]
    }
   ],
   "source": [
    "if debug:\n",
    "    try:\n",
    "        CC_viz(df.filter([random.choice(continuous),random.choice(continuous)]).dropna(how='any'))\n",
    "        print(f'Created an example continuous-continuous plot, generated using {charter}')\n",
    "    except:\n",
    "        pass"
   ]
  },
  {
   "cell_type": "markdown",
   "metadata": {},
   "source": [
    "### Matrix Heatmap"
   ]
  },
  {
   "cell_type": "code",
   "execution_count": 18,
   "metadata": {},
   "outputs": [],
   "source": [
    "def matrix_viz(matrix):\n",
    "   plt.clf()\n",
    "   plt.figure(dpi=70,figsize=(10,8))\n",
    "   sns.heatmap(matrix.fillna(0))\n",
    "   plt.show()\n",
    "   return()"
   ]
  },
  {
   "cell_type": "markdown",
   "metadata": {},
   "source": [
    "### Visualization Function Router"
   ]
  },
  {
   "cell_type": "code",
   "execution_count": 19,
   "metadata": {},
   "outputs": [],
   "source": [
    "def viz(U,V):\n",
    "\n",
    "  ''' Generate a visualization based on feature types '''\n",
    "\n",
    "  plt.clf()\n",
    "  plt.figure(dpi=resolution)\n",
    "\n",
    "  pairdf = df.filter([U,V]).dropna(how='any')\n",
    "  \n",
    "  # If both features are discrete:\n",
    "  if ((U in discrete) and (V in discrete)):\n",
    "    viz = DD_viz(pairdf)\n",
    "  # If both features are continuous:\n",
    "  elif ((U in continuous) and (V in continuous)):\n",
    "    viz = CC_viz(pairdf)\n",
    "  # If one feature is continuous and one feature is discrete:\n",
    "  elif (((U in continuous) and (V in discrete)) or ((U in discrete) and (V in continuous))):\n",
    "    viz = DC_viz(pairdf)\n",
    "  else:\n",
    "    viz = print('Error on features',U,'and',V)\n",
    "\n",
    "  if output: pairdf.to_json(str(cd+'output/json/'+U+'_'+V+'.json'))\n",
    "    \n",
    "  return viz"
   ]
  },
  {
   "cell_type": "markdown",
   "metadata": {},
   "source": [
    "## Mutual Information"
   ]
  },
  {
   "cell_type": "markdown",
   "metadata": {},
   "source": [
    "### Discrete-Discrete"
   ]
  },
  {
   "cell_type": "code",
   "execution_count": 20,
   "metadata": {},
   "outputs": [],
   "source": [
    "def DD_mi(df):\n",
    "\n",
    "  ''' Takes two discrete feature names and calculates normalized mutual information (dividing mutual information by maximum possible) '''\n",
    "\n",
    "  U=list(df.columns)[0]\n",
    "  V=list(df.columns)[1]\n",
    "\n",
    "  if debug: print(f'Calculating discrete-discrete MI for {U} and {V}')\n",
    "  min_response_count = min(len(list(df[U].unique())),len(list(df[V].unique())))\n",
    "  max_mi = np.log2(min_response_count)\n",
    "  if U == V:\n",
    "      mi = max_mi\n",
    "  else:\n",
    "      i_range = list(df[U].unique())\n",
    "      j_range = list(df[V].unique())\n",
    "      # We use 's' to denote a matrix of support for each i,j\n",
    "      s = pd.DataFrame(columns=i_range,index=j_range)\n",
    "      for i in i_range:\n",
    "        for j in j_range:\n",
    "          s[i][j]=df[(df[U]==i) & (df[V]==j)].filter([U,V],axis=1).shape[0]\n",
    "          mutual_support=s.sum().sum()\n",
    "      s = s.astype(int)\n",
    "      pmi = s.copy()\n",
    "      l = []\n",
    "      # If these features are never both answered, or if either feature only has one possible response:\n",
    "      if (mutual_support <= 0 or len(i_range)<=1 or len(j_range)<=1):\n",
    "        # The whole pointwise mutual information matrix should be 0\n",
    "        pmi.fillna(0,inplace=True)\n",
    "      else:\n",
    "        for i in i_range:\n",
    "          for j in j_range:\n",
    "            joint_support=s[i][j]\n",
    "            joint_probability = joint_support/mutual_support\n",
    "            marginal_probability_i=s.sum(axis=0)[i]/s.sum().sum()\n",
    "            marginal_probability_j=s.sum(axis=1)[j]/s.sum().sum()\n",
    "            if joint_probability !=0:\n",
    "              pmi[i][j]=np.log2(joint_probability/(marginal_probability_i*marginal_probability_j))\n",
    "              # Store all PMI (pointwise mutual information) in a list\n",
    "              l.append(pmi[i][j]*joint_probability)\n",
    "        # Sum the list of all pointwise mutual information\n",
    "        mi = sum(l)\n",
    "  # Normalize by response count (not recommended)\n",
    "  #if max_mi==0: nmi = 0\n",
    "  #else: nmi = mi/max_mi\n",
    "  if debug: print(f'MI: {mi}')\n",
    "  return mi"
   ]
  },
  {
   "cell_type": "code",
   "execution_count": 21,
   "metadata": {},
   "outputs": [
    {
     "name": "stdout",
     "output_type": "stream",
     "text": [
      "Calculating discrete-discrete MI for Quaternary_Extreme_1a and Trinary_Skewed_1b\n",
      "MI: 0.23666666666666664\n"
     ]
    }
   ],
   "source": [
    "# Test it out:\n",
    "try: DD_mi(df.filter(random.sample(discrete,2)).dropna(how='any'))\n",
    "except: print('Error calculating MI for two discrete features')"
   ]
  },
  {
   "cell_type": "markdown",
   "metadata": {},
   "source": [
    "### Discrete-Continuous\n",
    "\n",
    "This uses SciKit's [mutual_info_regression](https://scikit-learn.org/stable/modules/generated/sklearn.feature_selection.mutual_info_regression.html) which calculates mutual information using the nearest neighbor entropy approach described in [*B. C. Ross “Mutual Information between Discrete and Continuous Data Sets”. PLoS ONE 9(2), 2014.*](https://journals.plos.org/plosone/article?id=10.1371/journal.pone.0087357)\n",
    "\n",
    "This requires us to sparsify the discrete matrix by response"
   ]
  },
  {
   "cell_type": "code",
   "execution_count": 22,
   "metadata": {},
   "outputs": [],
   "source": [
    "def DC_mi(df):\n",
    "\n",
    "  ''' Takes a subset df of one discrete and one continuous feature and, using a sparsified matrix of the discrete responses, returns mutual information score '''\n",
    "\n",
    "  U=list(df.columns)[0]\n",
    "  V=list(df.columns)[1]\n",
    "\n",
    "  if debug: print(f'Calculating discrete-continious MI for {U} and {V}')\n",
    "  if (U in continuous):\n",
    "    D = V\n",
    "    C = U\n",
    "  else:\n",
    "    D = U\n",
    "    C = V\n",
    "  if debug: print(f'Discrete: {D} Continuous: {C}')\n",
    "  responses = list(df[D].unique())\n",
    "  if debug: print(f'responses = {responses}')\n",
    "  pmi = list(mutual_info_regression(sparsify(df[D]), df[C], discrete_features=True))\n",
    "  if debug: print(f'pmi list = {pmi}')\n",
    "  l = []\n",
    "  for i in list(range(0,(len(responses)))):\n",
    "    conditional_probability = df[df[D]==responses[i]].shape[0]/len(df[C])\n",
    "    l.append(pmi[i]*conditional_probability)\n",
    "  mi = sum(l)\n",
    "  if debug: print(f'MI: {mi}')\n",
    "  return mi"
   ]
  },
  {
   "cell_type": "code",
   "execution_count": 23,
   "metadata": {},
   "outputs": [
    {
     "name": "stdout",
     "output_type": "stream",
     "text": [
      "Calculating discrete-continious MI for Trinary_Extreme_1a and Continuous_Quaternary_Normal\n",
      "Discrete: Trinary_Extreme_1a Continuous: Continuous_Quaternary_Normal\n",
      "responses = ['A', 'B', 'C']\n",
      "pmi list = [0.0026465714758538983, 0.03011866507920069, 0.03231119094181545]\n",
      "MI: 0.005027267853741745\n"
     ]
    }
   ],
   "source": [
    "# Test it out:\n",
    "try: DC_mi(df.filter([random.choice(discrete),random.choice(continuous)]).dropna(how='any'))\n",
    "except: pass"
   ]
  },
  {
   "cell_type": "markdown",
   "metadata": {},
   "source": [
    "### Continuous-Continuous"
   ]
  },
  {
   "cell_type": "code",
   "execution_count": 24,
   "metadata": {},
   "outputs": [],
   "source": [
    "def CC_mi(df):\n",
    "\n",
    "  ''' Takes a subset df of two continuous features and calculates mutual information using SciKit's mutual_info_regression function '''\n",
    "\n",
    "  U=list(df.columns)[0]\n",
    "  V=list(df.columns)[1]\n",
    "\n",
    "  if debug: print(f'Calculating mutual information for {U} and {V}')\n",
    "\n",
    "  mi = mutual_info_regression(df.filter([U]),df[V])[0]\n",
    "  if debug: print(f'MI: {mi}')\n",
    "  return mi"
   ]
  },
  {
   "cell_type": "code",
   "execution_count": 25,
   "metadata": {},
   "outputs": [
    {
     "name": "stdout",
     "output_type": "stream",
     "text": [
      "Calculating mutual information for Continuous_Trinary_Skewed and Continuous_Binary_Skewed\n",
      "MI: 0\n"
     ]
    }
   ],
   "source": [
    "# Test it out:\n",
    "try: CC_mi(df.filter(random.sample(continuous, 2)).dropna(how='any'))\n",
    "except: pass"
   ]
  },
  {
   "cell_type": "markdown",
   "metadata": {},
   "source": [
    "#### Comparison: Correlation"
   ]
  },
  {
   "cell_type": "code",
   "execution_count": 26,
   "metadata": {},
   "outputs": [],
   "source": [
    "def CC_corr(df):\n",
    "\n",
    "  ''' Takes two continuous feature names and calculates pearson correlation '''\n",
    "\n",
    "  U=list(df.columns)[0]\n",
    "  V=list(df.columns)[1]\n",
    "\n",
    "  if debug: print(f'Calculating correlation between {U} and {V}')\n",
    "\n",
    "  corr = pearsonr(df[U], df[V])[0]\n",
    "  if debug: print(f'Correlation = {corr}')\n",
    "  return corr"
   ]
  },
  {
   "cell_type": "code",
   "execution_count": 27,
   "metadata": {},
   "outputs": [
    {
     "name": "stdout",
     "output_type": "stream",
     "text": [
      "Calculating correlation between Continuous_Binary_Skewed and Unary_1\n",
      "Correlation = 0.047924064644097625\n"
     ]
    }
   ],
   "source": [
    "# Test it out:\n",
    "try: CC_corr(df.filter(random.sample(continuous, 2)).dropna(how='any'))\n",
    "except: pass"
   ]
  },
  {
   "cell_type": "markdown",
   "metadata": {},
   "source": [
    "## Matrix Functions"
   ]
  },
  {
   "cell_type": "code",
   "execution_count": 28,
   "metadata": {},
   "outputs": [],
   "source": [
    "def matrixify(df):\n",
    "  ''' Takes a dataframe with columns [source,target,value] and returns a matrix where {index:source, columns:target, values:values} '''\n",
    "  m = df.pivot(index=list(df.columns)[0], columns=list(df.columns)[1], values=list(df.columns)[2])\n",
    "  return m"
   ]
  },
  {
   "cell_type": "code",
   "execution_count": 29,
   "metadata": {},
   "outputs": [],
   "source": [
    "def stack(matrix):\n",
    "  ''' For undirected matrices: Takes a matrix and returns a dataframe with columns [x,y,v] corresponding to [source,target,value] '''\n",
    "  s = pd.DataFrame(matrix.mask(np.triu(np.ones(matrix.shape)).astype(bool)).stack()).reset_index().rename(columns={'level_0':'x','level_1':'y',0:'v'})\n",
    "  s = s[s['x']!=s['y']]\n",
    "  s = s[s['v']>0]\n",
    "  s = s.sort_values(by='v',ascending=False)\n",
    "  #sns.distplot(s['v'],kde=False)\n",
    "  return s"
   ]
  },
  {
   "cell_type": "markdown",
   "metadata": {},
   "source": [
    "## Data Processing"
   ]
  },
  {
   "cell_type": "code",
   "execution_count": 30,
   "metadata": {},
   "outputs": [],
   "source": [
    "def calc_pairtype(U,V):\n",
    "\n",
    "  ''' Takes two feature names and returns the pair type ('DD': discrete/discrete, 'DC': discrete/continuous, or 'CC': continuous/continuous) '''\n",
    "\n",
    "  if debug: print('Finding pair type for \"',U,'\" and \"',V,'\"')\n",
    "  # If both features are discrete:\n",
    "  if ((U in discrete) and (V in discrete)):\n",
    "    pair_type = 'DD'\n",
    "    if debug: print('\"',U,'\" and \"',V,'\" are data pair type',pair_type)\n",
    "  # If both features are continuous:\n",
    "  elif ((U in continuous) and (V in continuous)):\n",
    "    pair_type = 'CC'\n",
    "    if debug: print('\"',U,'\" and \"',V,'\" are data pair type',pair_type)\n",
    "  # If one feature is continuous and one feature is discrete:\n",
    "  elif ((U in continuous) and (V in discrete)) or ((U in discrete) and (V in continuous)):\n",
    "    pair_type = 'DC'\n",
    "    if debug: print('\"',U,'\" and \"',V,'\" are data pair type',pair_type)\n",
    "  else:\n",
    "    pair_type = 'Err'\n",
    "    print('Error on',U,'and',V)\n",
    "  return pair_type"
   ]
  },
  {
   "cell_type": "code",
   "execution_count": 31,
   "metadata": {},
   "outputs": [],
   "source": [
    "def calc_mi(U,V):\n",
    "\n",
    "  ''' Takes two feature names and determines which mutual information method to use; returns calculated mutual information score '''\n",
    "\n",
    "  try:\n",
    "      pairdf = df.filter([U,V]).dropna(how='any')\n",
    "\n",
    "      if pairdf.shape[0]<1:\n",
    "        return 0\n",
    "\n",
    "      if debug:\n",
    "        print('Calculating mutual information for',U,'(',list(df.columns).index(U),'of',len(list(df.columns)),')',V,'(',list(df.columns).index(V),'of',len(list(df.columns)),')')\n",
    "      mi_start_time = datetime.now()\n",
    "      if (U==V):\n",
    "        return 1\n",
    "      else:\n",
    "        pair_type = calc_pairtype(U,V)\n",
    "        # If both features are discrete:\n",
    "        if (pair_type=='DD'):\n",
    "          mi = DD_mi(pairdf)\n",
    "        # If both features are continuous:\n",
    "        elif (pair_type=='CC'):\n",
    "          mi = CC_mi(pairdf)\n",
    "        # If one feature is continuous and one feature is discrete:\n",
    "        elif (pair_type=='DC'):\n",
    "          mi = DC_mi(pairdf)\n",
    "        else:\n",
    "          mi = 0\n",
    "        if chart: viz(U,V)\n",
    "        if debug: print('Elapsed time:',datetime.now() - mi_start_time)\n",
    "      return mi\n",
    "  except: return 0"
   ]
  },
  {
   "cell_type": "code",
   "execution_count": 32,
   "metadata": {},
   "outputs": [],
   "source": [
    "def run_calc(features):\n",
    "  start_time = datetime.now()\n",
    "\n",
    "  if compare_all: matrix = pd.DataFrame(1, columns=features,index=features)\n",
    "  else: matrix = pd.DataFrame(1, columns=list1,index=list2)\n",
    "        \n",
    "  s = stack(matrix)\n",
    "\n",
    "  s['v'] = [calc_mi(x,y) for x,y in zip(s['x'],s['y'])]\n",
    "  if debug:\n",
    "    print('Elapsed time:',datetime.now() - start_time)\n",
    "    print('Calcuated mutual information for',len(features),'columns across',df.shape[0],'records')\n",
    "  return s"
   ]
  },
  {
   "cell_type": "markdown",
   "metadata": {},
   "source": [
    "# Calculation"
   ]
  },
  {
   "cell_type": "code",
   "execution_count": null,
   "metadata": {},
   "outputs": [],
   "source": [
    "stack = run_calc(list(df.columns))"
   ]
  },
  {
   "cell_type": "code",
   "execution_count": null,
   "metadata": {},
   "outputs": [],
   "source": [
    "stack.to_csv(cd+'results.csv',index=False)"
   ]
  },
  {
   "cell_type": "markdown",
   "metadata": {},
   "source": [
    "# Network Graphing"
   ]
  },
  {
   "cell_type": "code",
   "execution_count": 33,
   "metadata": {},
   "outputs": [],
   "source": [
    "# Re-import the Mutual Information results\n",
    "# (this is helpful if you want to re-generate visualizations\n",
    "# without having to re-run the mutual information calculations)\n",
    "stack = pd.read_csv(cd+'results.csv')"
   ]
  },
  {
   "cell_type": "code",
   "execution_count": 34,
   "metadata": {},
   "outputs": [],
   "source": [
    "# Sort our values and (optionally) exclude Mutual Infomation scores above 1 (which are often proxies for one another)\n",
    "sorted_stack = stack.sort_values(by='v',ascending=False)\n",
    "#sorted_stack = sorted_stack[sorted_stack['v']<1]"
   ]
  },
  {
   "cell_type": "markdown",
   "metadata": {},
   "source": [
    "## Thresholding"
   ]
  },
  {
   "cell_type": "code",
   "execution_count": 35,
   "metadata": {},
   "outputs": [],
   "source": [
    "# Create a data frame of edge counts and number of components for a given threshold\n",
    "e = pd.DataFrame(columns=['mi_threshold','edge_count','components'])"
   ]
  },
  {
   "cell_type": "code",
   "execution_count": 36,
   "metadata": {},
   "outputs": [],
   "source": [
    "# Fill in the 'e' data frame with the number of edges and number of components across a range of thresholds\n",
    "for i in np.arange(np.round(sorted_stack['v'].min(),2), np.round(sorted_stack['v'].max(),2), 0.01):\n",
    "    \n",
    "    s = sorted_stack[sorted_stack['v']>i]\n",
    "    \n",
    "    G = nx.Graph()\n",
    "    G.add_nodes_from(list(dict.fromkeys((list(s['x'].unique())+list(s['y'].unique())))))\n",
    "    G.add_edges_from(list(zip(s['x'],s['y'])))\n",
    "    \n",
    "    e = e.append({'mi_threshold': i, 'edge_count': (sorted_stack['v']>i).sum(), 'components':nx.number_connected_components(G)},ignore_index=True)"
   ]
  },
  {
   "cell_type": "code",
   "execution_count": 37,
   "metadata": {},
   "outputs": [
    {
     "data": {
      "text/plain": [
       "<matplotlib.axes._subplots.AxesSubplot at 0x1a184b39b0>"
      ]
     },
     "execution_count": 37,
     "metadata": {},
     "output_type": "execute_result"
    },
    {
     "data": {
      "image/png": "[encoded data removed]",
      "text/plain": [
       "<Figure size 432x288 with 1 Axes>"
      ]
     },
     "metadata": {
      "needs_background": "light"
     },
     "output_type": "display_data"
    }
   ],
   "source": [
    "# Plot the number of edges for a range of mutual information scores\n",
    "sns.lineplot(e['mi_threshold'],e['edge_count'])"
   ]
  },
  {
   "cell_type": "code",
   "execution_count": 38,
   "metadata": {},
   "outputs": [
    {
     "data": {
      "text/plain": [
       "<matplotlib.axes._subplots.AxesSubplot at 0x1c207cabe0>"
      ]
     },
     "execution_count": 38,
     "metadata": {},
     "output_type": "execute_result"
    },
    {
     "data": {
      "image/png": "[encoded data removed]",
      "text/plain": [
       "<Figure size 432x288 with 1 Axes>"
      ]
     },
     "metadata": {
      "needs_background": "light"
     },
     "output_type": "display_data"
    }
   ],
   "source": [
    "# Plot the number of components for a range of mutual information scores\n",
    "sns.lineplot(e['mi_threshold'],e['components'])"
   ]
  },
  {
   "cell_type": "code",
   "execution_count": 39,
   "metadata": {},
   "outputs": [],
   "source": [
    "# Find the mutual information threshold which maximizes the component count\n",
    "max_component_threshold = e[e['components']==max(e['components'])].max()['mi_threshold']\n",
    "# optional: if there are multiple MI thresholds which maximize the number of components,\n",
    "# you may want to experiment with thresholding at .min()['mi_threshold'] instead of .max()['mi_threshold']\n",
    "# depending on your application; we have selected the maximum threshold for maximizing component counts,\n",
    "# as this minimizes the edge count over the minimum threshold, which reduces the visualization exploration space,\n",
    "# while still maximizing component counts"
   ]
  },
  {
   "cell_type": "code",
   "execution_count": 40,
   "metadata": {},
   "outputs": [
    {
     "name": "stdout",
     "output_type": "stream",
     "text": [
      "Finding pair type for \" Correlated_2 \" and \" Correlated_1 \"\n",
      "\" Correlated_2 \" and \" Correlated_1 \" are data pair type CC\n",
      "Finding pair type for \" Quaternary_Balanced_2 \" and \" Quaternary_Balanced_1 \"\n",
      "\" Quaternary_Balanced_2 \" and \" Quaternary_Balanced_1 \" are data pair type DD\n",
      "Finding pair type for \" Continuous_Quaternary_Skewed \" and \" Continuous_Quaternary_Normal \"\n",
      "\" Continuous_Quaternary_Skewed \" and \" Continuous_Quaternary_Normal \" are data pair type CC\n",
      "Finding pair type for \" Continuous_Trinary_Skewed \" and \" Continuous_Trinary_Normal \"\n",
      "\" Continuous_Trinary_Skewed \" and \" Continuous_Trinary_Normal \" are data pair type CC\n",
      "Finding pair type for \" Trinary_Balanced_2 \" and \" Trinary_Balanced_1 \"\n",
      "\" Trinary_Balanced_2 \" and \" Trinary_Balanced_1 \" are data pair type DD\n",
      "Finding pair type for \" Quaternary_Balanced_1 \" and \" Binary_Balanced_2 \"\n",
      "\" Quaternary_Balanced_1 \" and \" Binary_Balanced_2 \" are data pair type DD\n",
      "Finding pair type for \" Quaternary_Balanced_1 \" and \" Binary_Balanced_1 \"\n",
      "\" Quaternary_Balanced_1 \" and \" Binary_Balanced_1 \" are data pair type DD\n",
      "Finding pair type for \" Quaternary_Balanced_2 \" and \" Binary_Balanced_2 \"\n",
      "\" Quaternary_Balanced_2 \" and \" Binary_Balanced_2 \" are data pair type DD\n",
      "Finding pair type for \" Quaternary_Balanced_2 \" and \" Binary_Balanced_1 \"\n",
      "\" Quaternary_Balanced_2 \" and \" Binary_Balanced_1 \" are data pair type DD\n",
      "Finding pair type for \" Binary_Balanced_2 \" and \" Binary_Balanced_1 \"\n",
      "\" Binary_Balanced_2 \" and \" Binary_Balanced_1 \" are data pair type DD\n",
      "Finding pair type for \" Quaternary_Skewed_1b \" and \" Quaternary_Skewed_1a \"\n",
      "\" Quaternary_Skewed_1b \" and \" Quaternary_Skewed_1a \" are data pair type DD\n"
     ]
    },
    {
     "data": {
      "text/html": [
       "<div>\n",
       "<style scoped>\n",
       "    .dataframe tbody tr th:only-of-type {\n",
       "        vertical-align: middle;\n",
       "    }\n",
       "\n",
       "    .dataframe tbody tr th {\n",
       "        vertical-align: top;\n",
       "    }\n",
       "\n",
       "    .dataframe thead th {\n",
       "        text-align: right;\n",
       "    }\n",
       "</style>\n",
       "<table border=\"1\" class=\"dataframe\">\n",
       "  <thead>\n",
       "    <tr style=\"text-align: right;\">\n",
       "      <th></th>\n",
       "      <th>source</th>\n",
       "      <th>target</th>\n",
       "      <th>weight</th>\n",
       "      <th>viztype</th>\n",
       "    </tr>\n",
       "  </thead>\n",
       "  <tbody>\n",
       "    <tr>\n",
       "      <th>560</th>\n",
       "      <td>Correlated_2</td>\n",
       "      <td>Correlated_1</td>\n",
       "      <td>6.208405</td>\n",
       "      <td>CC</td>\n",
       "    </tr>\n",
       "    <tr>\n",
       "      <th>315</th>\n",
       "      <td>Quaternary_Balanced_2</td>\n",
       "      <td>Quaternary_Balanced_1</td>\n",
       "      <td>2.000000</td>\n",
       "      <td>DD</td>\n",
       "    </tr>\n",
       "    <tr>\n",
       "      <th>235</th>\n",
       "      <td>Continuous_Quaternary_Skewed</td>\n",
       "      <td>Continuous_Quaternary_Normal</td>\n",
       "      <td>1.400923</td>\n",
       "      <td>CC</td>\n",
       "    </tr>\n",
       "    <tr>\n",
       "      <th>54</th>\n",
       "      <td>Continuous_Trinary_Skewed</td>\n",
       "      <td>Continuous_Trinary_Normal</td>\n",
       "      <td>1.095213</td>\n",
       "      <td>CC</td>\n",
       "    </tr>\n",
       "    <tr>\n",
       "      <th>355</th>\n",
       "      <td>Trinary_Balanced_2</td>\n",
       "      <td>Trinary_Balanced_1</td>\n",
       "      <td>1.000000</td>\n",
       "      <td>DD</td>\n",
       "    </tr>\n",
       "    <tr>\n",
       "      <th>307</th>\n",
       "      <td>Quaternary_Balanced_1</td>\n",
       "      <td>Binary_Balanced_2</td>\n",
       "      <td>1.000000</td>\n",
       "      <td>DD</td>\n",
       "    </tr>\n",
       "    <tr>\n",
       "      <th>300</th>\n",
       "      <td>Quaternary_Balanced_1</td>\n",
       "      <td>Binary_Balanced_1</td>\n",
       "      <td>1.000000</td>\n",
       "      <td>DD</td>\n",
       "    </tr>\n",
       "    <tr>\n",
       "      <th>285</th>\n",
       "      <td>Quaternary_Balanced_2</td>\n",
       "      <td>Binary_Balanced_2</td>\n",
       "      <td>1.000000</td>\n",
       "      <td>DD</td>\n",
       "    </tr>\n",
       "    <tr>\n",
       "      <th>284</th>\n",
       "      <td>Quaternary_Balanced_2</td>\n",
       "      <td>Binary_Balanced_1</td>\n",
       "      <td>1.000000</td>\n",
       "      <td>DD</td>\n",
       "    </tr>\n",
       "    <tr>\n",
       "      <th>0</th>\n",
       "      <td>Binary_Balanced_2</td>\n",
       "      <td>Binary_Balanced_1</td>\n",
       "      <td>1.000000</td>\n",
       "      <td>DD</td>\n",
       "    </tr>\n",
       "    <tr>\n",
       "      <th>329</th>\n",
       "      <td>Quaternary_Skewed_1b</td>\n",
       "      <td>Quaternary_Skewed_1a</td>\n",
       "      <td>0.875000</td>\n",
       "      <td>DD</td>\n",
       "    </tr>\n",
       "  </tbody>\n",
       "</table>\n",
       "</div>"
      ],
      "text/plain": [
       "                           source                        target    weight  \\\n",
       "560                  Correlated_2                  Correlated_1  6.208405   \n",
       "315         Quaternary_Balanced_2         Quaternary_Balanced_1  2.000000   \n",
       "235  Continuous_Quaternary_Skewed  Continuous_Quaternary_Normal  1.400923   \n",
       "54      Continuous_Trinary_Skewed     Continuous_Trinary_Normal  1.095213   \n",
       "355            Trinary_Balanced_2            Trinary_Balanced_1  1.000000   \n",
       "307         Quaternary_Balanced_1             Binary_Balanced_2  1.000000   \n",
       "300         Quaternary_Balanced_1             Binary_Balanced_1  1.000000   \n",
       "285         Quaternary_Balanced_2             Binary_Balanced_2  1.000000   \n",
       "284         Quaternary_Balanced_2             Binary_Balanced_1  1.000000   \n",
       "0               Binary_Balanced_2             Binary_Balanced_1  1.000000   \n",
       "329          Quaternary_Skewed_1b          Quaternary_Skewed_1a  0.875000   \n",
       "\n",
       "    viztype  \n",
       "560      CC  \n",
       "315      DD  \n",
       "235      CC  \n",
       "54       CC  \n",
       "355      DD  \n",
       "307      DD  \n",
       "300      DD  \n",
       "285      DD  \n",
       "284      DD  \n",
       "0        DD  \n",
       "329      DD  "
      ]
     },
     "execution_count": 40,
     "metadata": {},
     "output_type": "execute_result"
    }
   ],
   "source": [
    "# Threshold the edge list by the mutual information threshold which maximizes the component count\n",
    "thresh_stack = sorted_stack[sorted_stack['v']>max_component_threshold]\n",
    "thresh_stack = thresh_stack.rename(columns={'x':'source','y':'target','v':'weight'})\n",
    "thresh_stack['viztype']=[calc_pairtype(x,y) for x,y in zip(thresh_stack['source'],thresh_stack['target'])]\n",
    "thresh_stack"
   ]
  },
  {
   "cell_type": "markdown",
   "metadata": {},
   "source": [
    "## Node and Edge Lists"
   ]
  },
  {
   "cell_type": "code",
   "execution_count": 41,
   "metadata": {},
   "outputs": [],
   "source": [
    "# Create a networkx graph from the list of pairs\n",
    "G=nx.from_pandas_edgelist(thresh_stack, 'source', 'target', ['weight'])"
   ]
  },
  {
   "cell_type": "code",
   "execution_count": 42,
   "metadata": {},
   "outputs": [],
   "source": [
    "nodelist = []\n",
    "for n in list(dict.fromkeys((list(thresh_stack['source'].unique())+list(thresh_stack['target'].unique())))):\n",
    "    nodelist.append({'name':n,'type':'continuous' if (response_list['class'][n])=='c' else 'discrete','neighbors':list(dict(G[n]).keys())})"
   ]
  },
  {
   "cell_type": "code",
   "execution_count": 43,
   "metadata": {},
   "outputs": [
    {
     "data": {
      "text/plain": [
       "[{'name': 'Correlated_2', 'type': 'continuous', 'neighbors': ['Correlated_1']},\n",
       " {'name': 'Quaternary_Balanced_2',\n",
       "  'type': 'discrete',\n",
       "  'neighbors': ['Quaternary_Balanced_1',\n",
       "   'Binary_Balanced_2',\n",
       "   'Binary_Balanced_1']},\n",
       " {'name': 'Continuous_Quaternary_Skewed',\n",
       "  'type': 'continuous',\n",
       "  'neighbors': ['Continuous_Quaternary_Normal']},\n",
       " {'name': 'Continuous_Trinary_Skewed',\n",
       "  'type': 'continuous',\n",
       "  'neighbors': ['Continuous_Trinary_Normal']},\n",
       " {'name': 'Trinary_Balanced_2',\n",
       "  'type': 'discrete',\n",
       "  'neighbors': ['Trinary_Balanced_1']},\n",
       " {'name': 'Quaternary_Balanced_1',\n",
       "  'type': 'discrete',\n",
       "  'neighbors': ['Quaternary_Balanced_2',\n",
       "   'Binary_Balanced_2',\n",
       "   'Binary_Balanced_1']},\n",
       " {'name': 'Binary_Balanced_2',\n",
       "  'type': 'discrete',\n",
       "  'neighbors': ['Quaternary_Balanced_1',\n",
       "   'Quaternary_Balanced_2',\n",
       "   'Binary_Balanced_1']},\n",
       " {'name': 'Quaternary_Skewed_1b',\n",
       "  'type': 'discrete',\n",
       "  'neighbors': ['Quaternary_Skewed_1a']},\n",
       " {'name': 'Correlated_1', 'type': 'continuous', 'neighbors': ['Correlated_2']},\n",
       " {'name': 'Continuous_Quaternary_Normal',\n",
       "  'type': 'continuous',\n",
       "  'neighbors': ['Continuous_Quaternary_Skewed']},\n",
       " {'name': 'Continuous_Trinary_Normal',\n",
       "  'type': 'continuous',\n",
       "  'neighbors': ['Continuous_Trinary_Skewed']},\n",
       " {'name': 'Trinary_Balanced_1',\n",
       "  'type': 'discrete',\n",
       "  'neighbors': ['Trinary_Balanced_2']},\n",
       " {'name': 'Binary_Balanced_1',\n",
       "  'type': 'discrete',\n",
       "  'neighbors': ['Quaternary_Balanced_1',\n",
       "   'Quaternary_Balanced_2',\n",
       "   'Binary_Balanced_2']},\n",
       " {'name': 'Quaternary_Skewed_1a',\n",
       "  'type': 'discrete',\n",
       "  'neighbors': ['Quaternary_Skewed_1b']}]"
      ]
     },
     "execution_count": 43,
     "metadata": {},
     "output_type": "execute_result"
    }
   ],
   "source": [
    "nodelist"
   ]
  },
  {
   "cell_type": "code",
   "execution_count": 45,
   "metadata": {},
   "outputs": [],
   "source": [
    "json_out = {}\n",
    "json_out['nodes']=nodelist\n",
    "json_out['links']=(thresh_stack).to_dict(orient='records')"
   ]
  },
  {
   "cell_type": "code",
   "execution_count": 46,
   "metadata": {},
   "outputs": [],
   "source": [
    "with open(str(cd+'output/graph.json'), 'w') as json_file:\n",
    "  json.dump(json_out, json_file)"
   ]
  },
  {
   "cell_type": "code",
   "execution_count": 47,
   "metadata": {},
   "outputs": [],
   "source": [
    "for i,row in thresh_stack.iterrows():\n",
    "    viz(row['source'],row['target'])"
   ]
  },
  {
   "cell_type": "markdown",
   "metadata": {},
   "source": [
    "## Positioning"
   ]
  },
  {
   "cell_type": "code",
   "execution_count": 48,
   "metadata": {},
   "outputs": [],
   "source": [
    "def calculate_positions(thresh_stack):\n",
    "\n",
    "  # Generate position data for each node:\n",
    "  pos=nx.kamada_kawai_layout(G, weight='weight')\n",
    "      \n",
    "  # Save x, y locations of each edge\n",
    "  edge_x = []\n",
    "  edge_y = []\n",
    "\n",
    "  # Calculate x,y positions of an edge's 'start' (x0,y0) and 'end' (x1,y1) points\n",
    "  for edge in G.edges():\n",
    "      x0, y0 = pos[edge[0]]\n",
    "      x1, y1 = pos[edge[1]]\n",
    "      edge_x.append(x0)\n",
    "      edge_x.append(x1)\n",
    "      edge_y.append(y0)\n",
    "      edge_y.append(y1)\n",
    "\n",
    "  # Bundle it all up in a dict:\n",
    "  edges = dict(x=edge_x,y=edge_y)\n",
    "\n",
    "  # Save x, y locations of each node\n",
    "  node_x = []\n",
    "  node_y = []\n",
    "\n",
    "  # Save node stats for annotation\n",
    "  node_name = []\n",
    "  node_adjacencies = []\n",
    "  node_centralities = []\n",
    "\n",
    "  # Calculate x,y positions of nodes\n",
    "  for node in G.nodes():\n",
    "      node_name.append(node)# Save node names\n",
    "      x, y = pos[node]\n",
    "      node_x.append(x)\n",
    "      node_y.append(y)\n",
    "\n",
    "  for node, adjacencies in enumerate(G.adjacency()):\n",
    "      node_adjacencies.append(len(adjacencies[1]))\n",
    "\n",
    "  for n in G.nodes():\n",
    "      node_centralities.append(nx.degree_centrality(G)[n])\n",
    "\n",
    "  # Bundle it all up in a dict:\n",
    "  nodes = dict(x=node_x,y=node_y,name=node_name,adjacencies=node_adjacencies,centralities=node_centralities)\n",
    "\n",
    "  return edges,nodes"
   ]
  },
  {
   "cell_type": "code",
   "execution_count": 49,
   "metadata": {},
   "outputs": [],
   "source": [
    "[edges,nodes] = calculate_positions(thresh_stack)"
   ]
  },
  {
   "cell_type": "markdown",
   "metadata": {},
   "source": [
    "## Draw Graph"
   ]
  },
  {
   "cell_type": "code",
   "execution_count": 50,
   "metadata": {},
   "outputs": [],
   "source": [
    "def draw_graph(edges,nodes,title,**kwargs):\n",
    "\n",
    "  # Draw edges\n",
    "  edge_trace = go.Scatter(\n",
    "      x=edges['x'], y=edges['y'],\n",
    "      line=dict(width=0.5, color='#888'),\n",
    "      mode='lines+markers',\n",
    "      hoverinfo='text')\n",
    "\n",
    "  # Draw nodes\n",
    "  node_trace = go.Scatter(\n",
    "      x=nodes['x'],\n",
    "      y=nodes['y'],\n",
    "      # Optional: Add labels to points *without* hovering (can get a little messy)\n",
    "      mode='markers+text',\n",
    "      # ...or, just add markers (no text)\n",
    "      #mode='markers',\n",
    "      text=nodes['name'],\n",
    "      hoverinfo='text')\n",
    "  filename=title.lower().replace(\" \",\"_\")\n",
    "\n",
    "  # Color the node by its number of connections\n",
    "  #node_trace.marker.color = nodes['adjacencies']\n",
    "  node_trace.marker.color = nodes['centralities']\n",
    "  \n",
    "  # Draw figure\n",
    "  fig = go.Figure(data=[edge_trace,node_trace],\n",
    "            layout=go.Layout(\n",
    "              title=title,\n",
    "              titlefont_size=16,\n",
    "              showlegend=False,\n",
    "              hovermode='closest',\n",
    "              margin=dict(b=20,l=5,r=5,t=120),\n",
    "              xaxis=dict(showgrid=False, zeroline=False, showticklabels=False),\n",
    "              yaxis=dict(showgrid=False, zeroline=False, showticklabels=False),\n",
    "              template='plotly_white')\n",
    "              )\n",
    "  \n",
    "  fig.update_traces(textposition='top center')\n",
    "  # Show figure\n",
    "  if chart: fig.show()\n",
    "  if output: fig.write_image(str(cd+'output/graph_example.png'), scale=resolution//72)"
   ]
  },
  {
   "cell_type": "code",
   "execution_count": 51,
   "metadata": {},
   "outputs": [],
   "source": [
    "draw_graph(edges,nodes,'Example Graph')"
   ]
  },
  {
   "cell_type": "code",
   "execution_count": 52,
   "metadata": {},
   "outputs": [],
   "source": [
    "components = []\n",
    "for i in nx.connected_components(G):\n",
    "    components.append(list(i))\n",
    "if output:\n",
    "    with open(str(cd+'output/components.json'), 'w') as json_file:\n",
    "        json.dump(components, json_file)"
   ]
  },
  {
   "cell_type": "code",
   "execution_count": null,
   "metadata": {},
   "outputs": [],
   "source": []
  }
 ],
 "metadata": {
  "kernelspec": {
   "display_name": "Python 3",
   "language": "python",
   "name": "python3"
  },
  "language_info": {
   "codemirror_mode": {
    "name": "ipython",
    "version": 3
   },
   "file_extension": ".py",
   "mimetype": "text/x-python",
   "name": "python",
   "nbconvert_exporter": "python",
   "pygments_lexer": "ipython3",
   "version": "3.7.7"
  },
  "toc": {
   "base_numbering": 1,
   "nav_menu": {},
   "number_sections": true,
   "sideBar": true,
   "skip_h1_title": false,
   "title_cell": "Table of Contents",
   "title_sidebar": "Contents",
   "toc_cell": true,
   "toc_position": {
    "height": "calc(100% - 180px)",
    "left": "10px",
    "top": "150px",
    "width": "228.391px"
   },
   "toc_section_display": true,
   "toc_window_display": true
  }
 },
 "nbformat": 4,
 "nbformat_minor": 2
}
